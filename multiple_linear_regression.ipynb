{
 "cells": [
  {
   "cell_type": "markdown",
   "metadata": {},
   "source": [
    "# Systolic Blood Pressure Data\n",
    "\n",
    "The data (X1, X2, X3) are for each patient.\n",
    "X1 = systolic blood pressure\n",
    "X2 = age in years\n",
    "X3 = weight in pounds\n"
   ]
  },
  {
   "cell_type": "code",
   "execution_count": 46,
   "metadata": {},
   "outputs": [
    {
     "name": "stdout",
     "output_type": "stream",
     "text": [
      "*** No CODEPAGE record, no encoding_override: will use 'ascii'\n",
      "0.00486118849485\n",
      "0.269074399099\n",
      "0.683127290415\n",
      "7.46921858667\n"
     ]
    }
   ],
   "source": [
    "from numpy import *\n",
    "import pandas as pd\n",
    "\n",
    "def compute_error_for_given_points(b0,b1,b2,points):\n",
    "    totalError=0\n",
    "    for i in range(0,len(points)):\n",
    "        x1=points[i,1]\n",
    "        x2=points[i,2]\n",
    "        y=points[i,0]\n",
    "        totalError+=(y-(b0+b1*x1+b2*x2))**2\n",
    "    return totalError/float(len(points))\n",
    "\n",
    "def step_gradient(b0_current,b1_current,b2_current,points,learningRate):\n",
    "    #gradient descent\n",
    "    b0_gradient=0\n",
    "    b1_gradient=0\n",
    "    b2_gradient=0\n",
    "    \n",
    "    N=float(len(points))\n",
    "    points=array(points)\n",
    "    for i in range(0,len(points)):\n",
    "        x1=points[i,1]\n",
    "        x2=points[i,2]\n",
    "        y=points[i,0]\n",
    "        b0_gradient+=-(2/N)*(y-(b0_current+b1_current*x1+b2_current*x2))\n",
    "        b1_gradient+=-(2/N)*x1*(y-(b0_current+b1_current*x1+b2_current*x2))\n",
    "        b2_gradient+=-(2/N)*x2*(y-(b0_current+b1_current*x1+b2_current*x2))\n",
    "    new_b0=b0_current-(learningRate*b0_gradient)\n",
    "    new_b1=b1_current-(learningRate*b1_gradient)\n",
    "    new_b2=b2_current-(learningRate*b2_gradient)\n",
    "    return [new_b0,new_b1,new_b2]\n",
    "\n",
    "\n",
    "def gradient_descent_runner(points,starting_b0,starting_b1,starting_b2,learning_rate,num_iterations):\n",
    "    b0=starting_b0\n",
    "    b1=starting_b1\n",
    "    b2=starting_b2\n",
    "    for i in range(num_iterations):\n",
    "        [b0,b1,b2]=step_gradient(b0,b1,b2,array(points),learning_rate)\n",
    "    return [b0,b1,b2]\n",
    "\n",
    "def run():\n",
    "    #hyperparameters\n",
    "    xls = pd.ExcelFile(\"mlr02.xls\")\n",
    "    points = xls.parse(0)\n",
    "    points=array(points)\n",
    "    learning_rate=0.00001\n",
    "    initial_b0=0\n",
    "    initial_b1=0\n",
    "    initial_b2=0\n",
    "    num_iterations=1000\n",
    "    [b0,b1,b2]=gradient_descent_runner(points,initial_b0,initial_b1,initial_b2,learning_rate,num_iterations)\n",
    "    print(b0)\n",
    "    print(b1)\n",
    "    print(b2)\n",
    "    error=compute_error_for_given_points(b0,b1,b2,points)\n",
    "    print(error)\n",
    "    \n",
    "\n",
    "if __name__ == '__main__':\n",
    "    run()"
   ]
  },
  {
   "cell_type": "code",
   "execution_count": 56,
   "metadata": {
    "collapsed": true
   },
   "outputs": [],
   "source": [
    "def predict(age,wt):    \n",
    "    print(0.00486118849485+(0.269074399099*age)+(0.683127290415*wt))\n"
   ]
  },
  {
   "cell_type": "code",
   "execution_count": 57,
   "metadata": {},
   "outputs": [
    {
     "name": "stdout",
     "output_type": "stream",
     "text": [
      "120.33727801795385\n"
     ]
    }
   ],
   "source": [
    "predict(41,160)"
   ]
  },
  {
   "cell_type": "code",
   "execution_count": null,
   "metadata": {
    "collapsed": true
   },
   "outputs": [],
   "source": []
  }
 ],
 "metadata": {
  "kernelspec": {
   "display_name": "Python 3",
   "language": "python",
   "name": "python3"
  },
  "language_info": {
   "codemirror_mode": {
    "name": "ipython",
    "version": 3
   },
   "file_extension": ".py",
   "mimetype": "text/x-python",
   "name": "python",
   "nbconvert_exporter": "python",
   "pygments_lexer": "ipython3",
   "version": "3.6.1"
  }
 },
 "nbformat": 4,
 "nbformat_minor": 2
}
